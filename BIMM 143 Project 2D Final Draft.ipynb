{
 "cells": [
  {
   "cell_type": "markdown",
   "id": "b5f669cb",
   "metadata": {},
   "source": [
    "# Project 2D\n",
    "\n",
    "### Scientific Question: Is there a correlation between UV exposure and the rate melanoma diagnoses in men and women across the world? \n",
    "NASA'S use of the ozone mapping spectrometer has revealed that UV radiation levels vary across the world. Studies have shown this variation is in response to solar elevation, cloud and snow reflection, altitude, aerosols, and elliptical orbit of the Earth around the Sun (Liley and Mckenzie, 2006).\n",
    "\n",
    "Melanoma is a tumor that is generated when melanocytes become malignant. Melanocytes are responsible for producing the melanin in our bodies to display physical features such as eye, hair, and skin color. Research has shown that people who are more suseptable to having Melanoma are those who are consistently exposed to the sun, especially without sunscreen (Heistein and Acharya, 2021).\n",
    "\n",
    "Studies have also pointed to how individuals with lighter skin complexion, with the phenomelanin pigment, are more vunerable to developing Melanoma. The minimal erythematous (MED) dose method has been used to evaluate how much UV radiation is needed to induce sunburn. A much higher dose of (MED) is needed in individuals with darker complextion to induce suburn,because have the eumelanin pigment, which is less sensitive to UV (D'Orazio et al., 2013).\n",
    "\n",
    "\n",
    "\n",
    "### Hypothesis: If there is high exposure to UV radiation in a given location, then we can expect to see high rate of melanoma in both men and women. \n",
    "\n",
    "High exposure to UV radiation has been shown to lead to specific mutations in our genes causing severe skin damage. On the molecular level, the mitogen-activated protein kinase pathway is most often mutated by UV radiation. In this pathway, the genes often affected are BRAF, NRAS, and NF1. There are two forms of UV Radiation, UVB and UVA. \"UVB causes DNA lesions directly\" whereas \"UVA excites intracellular photosensitizers and the subsequent production of reactive oxygen species to induce DNA damage\"(Craig et al., 2018).\n",
    "\n",
    "To answer this scientific question and test my hypothesis, I searched for UV radiation levels across different countries in the world on the World Health Organization Website. I also searched for the rates of Melanoma for men and women (30+ yrs) on the American Institute for Cancer Research. I then transfered both forms of data onto Excel and turned them into a csv file. That is the data I used here. "
   ]
  },
  {
   "cell_type": "markdown",
   "id": "384df422",
   "metadata": {},
   "source": [
    "## Part 1: Load Packages\n",
    "\n",
    "- Pandas: This is an open source data analysis and manipulation tool that can be used in Python. You can create DataFrames and it will provide tools for reading and writing data in different formats.It also allows you to merge, reshape, insert and delete columns in datasets. To learn more about Pandas, see: https://pandas.pydata.org/about/index.html\n",
    "\n",
    "- Plotly.express: This is a refined source within Plotly used to style and create different figures that may be basic, 2D, 3D, multidimensional, and even in the form of a a Polar Chart. The high level API for these functions makes it easy to transition to different types of figures. To learn more about Plotly.express, see: https://plotly.com/python/plotly-express/\n",
    "\n",
    "- Plotly: This is an open source graphing library used to create a variety of different graphs such as line plots, scatter plots, bar charts, and even heat maps. To learn more about Plotly, see: https://plotly.com/python/\n",
    "\n",
    "- Statistics: This is a module in Python that allows you to calculate mathmatical statistics to numerical data. THis includes calculating the mean, median, mode, standard deviation and more. To learn more about Statistics, see: https://docs.python.org/3/library/statistics.html\n",
    "\n",
    "- numpy: This is a package that is used for scientific computing in Python. You can use it to create multi-dimensional arrays and matrices. Several mathmatical opperations can be performed in these arrays with large amounts of data. To learn more about numpy, see: https://numpy.org/doc/stable/user/whatisnumpy.html\n",
    "\n",
    "- matplotlib.pyplot: This is a source within matplotlib that consists of functions that work similarly to Matlab. You can use it create figures more in detail by incorporating labels, lines, and can specify axes. To learn more about matplotlib.pyplot, see: https://matplotlib.org/stable/tutorials/introductory/pyplot.html\n",
    "\n",
    "- SciPy: This is a package created on the extension of NumPy that can be used for manipulating and visualizing data. SciPy has subpackages to create N-dimensional images, spatial data structures, statistical distributions, clustering algorithms and much more. To learn more about SciPy, see: https://docs.scipy.org/doc/scipy/reference/tutorial/general.html\n"
   ]
  },
  {
   "cell_type": "code",
   "execution_count": 53,
   "id": "ebf0adeb",
   "metadata": {
    "scrolled": false
   },
   "outputs": [
    {
     "name": "stdout",
     "output_type": "stream",
     "text": [
      "Requirement already satisfied: plotly in c:\\users\\user\\anaconda3\\envs\\bimm 143\\lib\\site-packages (5.4.0)\n",
      "Requirement already satisfied: six in c:\\users\\user\\anaconda3\\envs\\bimm 143\\lib\\site-packages (from plotly) (1.15.0)\n",
      "Requirement already satisfied: tenacity>=6.2.0 in c:\\users\\user\\anaconda3\\envs\\bimm 143\\lib\\site-packages (from plotly) (8.0.1)\n"
     ]
    }
   ],
   "source": [
    "#Import all necessary packages\n",
    "import pandas as pd\n",
    "!pip install plotly\n",
    "import plotly as px"
   ]
  },
  {
   "cell_type": "code",
   "execution_count": 54,
   "id": "0e4c61af",
   "metadata": {},
   "outputs": [],
   "source": [
    "#Continue import of packages\n",
    "import plotly.express as px\n",
    "from statistics import mean, stdev\n",
    "import numpy as np\n",
    "import matplotlib.pyplot as plt\n",
    "from scipy import stats"
   ]
  },
  {
   "cell_type": "markdown",
   "id": "acb6d386",
   "metadata": {},
   "source": [
    "## Part 2A: Load in the data and perform Bioinformatics Analyses (GeoComputational Analyses)\n",
    "The type of data that is used below is in a CSV file. A CSV file is a comma separated value format that can be used to import or export in databases or spreadsheets. The CSV files contain the coordinates for various countries around the world. Another CSV file contains UV radiation levels for the given countries.  \n",
    "\n",
    "In the code below we read the CSV file to produce a dataframe for the Country coordinates and a dataframe for UV radiation levels. These dataframes are then merged into one dataframe 'world_stats'. To retrieve country codes to finalize the data needed to produce a figure, use the given dataframe from \"year 2007\" to create 'new_world'. Then merge to create the final dataframe. "
   ]
  },
  {
   "cell_type": "code",
   "execution_count": 55,
   "id": "9c532d5c",
   "metadata": {
    "scrolled": true
   },
   "outputs": [
    {
     "data": {
      "text/html": [
       "<div>\n",
       "<style scoped>\n",
       "    .dataframe tbody tr th:only-of-type {\n",
       "        vertical-align: middle;\n",
       "    }\n",
       "\n",
       "    .dataframe tbody tr th {\n",
       "        vertical-align: top;\n",
       "    }\n",
       "\n",
       "    .dataframe thead th {\n",
       "        text-align: right;\n",
       "    }\n",
       "</style>\n",
       "<table border=\"1\" class=\"dataframe\">\n",
       "  <thead>\n",
       "    <tr style=\"text-align: right;\">\n",
       "      <th></th>\n",
       "      <th>abbreviation</th>\n",
       "      <th>latitude</th>\n",
       "      <th>longitude</th>\n",
       "      <th>country</th>\n",
       "    </tr>\n",
       "  </thead>\n",
       "  <tbody>\n",
       "    <tr>\n",
       "      <th>0</th>\n",
       "      <td>AD</td>\n",
       "      <td>42.546245</td>\n",
       "      <td>1.601554</td>\n",
       "      <td>Andorra</td>\n",
       "    </tr>\n",
       "    <tr>\n",
       "      <th>1</th>\n",
       "      <td>AE</td>\n",
       "      <td>23.424076</td>\n",
       "      <td>53.847818</td>\n",
       "      <td>United Arab Emirates</td>\n",
       "    </tr>\n",
       "    <tr>\n",
       "      <th>2</th>\n",
       "      <td>AF</td>\n",
       "      <td>33.939110</td>\n",
       "      <td>67.709953</td>\n",
       "      <td>Afghanistan</td>\n",
       "    </tr>\n",
       "    <tr>\n",
       "      <th>3</th>\n",
       "      <td>AG</td>\n",
       "      <td>17.060816</td>\n",
       "      <td>-61.796428</td>\n",
       "      <td>Antigua and Barbuda</td>\n",
       "    </tr>\n",
       "    <tr>\n",
       "      <th>4</th>\n",
       "      <td>AI</td>\n",
       "      <td>18.220554</td>\n",
       "      <td>-63.068615</td>\n",
       "      <td>Anguilla</td>\n",
       "    </tr>\n",
       "  </tbody>\n",
       "</table>\n",
       "</div>"
      ],
      "text/plain": [
       "  abbreviation   latitude  longitude               country\n",
       "0           AD  42.546245   1.601554               Andorra\n",
       "1           AE  23.424076  53.847818  United Arab Emirates\n",
       "2           AF  33.939110  67.709953           Afghanistan\n",
       "3           AG  17.060816 -61.796428   Antigua and Barbuda\n",
       "4           AI  18.220554 -63.068615              Anguilla"
      ]
     },
     "execution_count": 55,
     "metadata": {},
     "output_type": "execute_result"
    }
   ],
   "source": [
    "#Read csv file to produce dataframe\n",
    "#global variable CountryCoordinates\n",
    "CountryCoordinates = pd.read_csv(\"CountryCoordinates.csv\")\n",
    "\n",
    "#Check to verify dataframe contents\n",
    "CountryCoordinates.head()"
   ]
  },
  {
   "cell_type": "code",
   "execution_count": 56,
   "id": "a85ea6b6",
   "metadata": {},
   "outputs": [
    {
     "data": {
      "text/html": [
       "<div>\n",
       "<style scoped>\n",
       "    .dataframe tbody tr th:only-of-type {\n",
       "        vertical-align: middle;\n",
       "    }\n",
       "\n",
       "    .dataframe tbody tr th {\n",
       "        vertical-align: top;\n",
       "    }\n",
       "\n",
       "    .dataframe thead th {\n",
       "        text-align: right;\n",
       "    }\n",
       "</style>\n",
       "<table border=\"1\" class=\"dataframe\">\n",
       "  <thead>\n",
       "    <tr style=\"text-align: right;\">\n",
       "      <th></th>\n",
       "      <th>Country</th>\n",
       "      <th>UV radiation</th>\n",
       "    </tr>\n",
       "  </thead>\n",
       "  <tbody>\n",
       "    <tr>\n",
       "      <th>0</th>\n",
       "      <td>Afghanistan</td>\n",
       "      <td>4132</td>\n",
       "    </tr>\n",
       "    <tr>\n",
       "      <th>1</th>\n",
       "      <td>Albania</td>\n",
       "      <td>2542</td>\n",
       "    </tr>\n",
       "    <tr>\n",
       "      <th>2</th>\n",
       "      <td>Algeria</td>\n",
       "      <td>3253</td>\n",
       "    </tr>\n",
       "    <tr>\n",
       "      <th>3</th>\n",
       "      <td>Andorra</td>\n",
       "      <td>2469</td>\n",
       "    </tr>\n",
       "    <tr>\n",
       "      <th>4</th>\n",
       "      <td>Angola</td>\n",
       "      <td>5287</td>\n",
       "    </tr>\n",
       "  </tbody>\n",
       "</table>\n",
       "</div>"
      ],
      "text/plain": [
       "       Country  UV radiation\n",
       "0  Afghanistan          4132\n",
       "1      Albania          2542\n",
       "2      Algeria          3253\n",
       "3      Andorra          2469\n",
       "4       Angola          5287"
      ]
     },
     "execution_count": 56,
     "metadata": {},
     "output_type": "execute_result"
    }
   ],
   "source": [
    "#Read csv file to produce dataframe\n",
    "#Global varaible UVRadiation\n",
    "UVRadiation = pd.read_csv(\"UVRadiation.csv\")\n",
    "\n",
    "#Check to verify dataframe contents\n",
    "UVRadiation.head()"
   ]
  },
  {
   "cell_type": "code",
   "execution_count": 57,
   "id": "561a500c",
   "metadata": {
    "scrolled": true
   },
   "outputs": [
    {
     "data": {
      "text/html": [
       "<div>\n",
       "<style scoped>\n",
       "    .dataframe tbody tr th:only-of-type {\n",
       "        vertical-align: middle;\n",
       "    }\n",
       "\n",
       "    .dataframe tbody tr th {\n",
       "        vertical-align: top;\n",
       "    }\n",
       "\n",
       "    .dataframe thead th {\n",
       "        text-align: right;\n",
       "    }\n",
       "</style>\n",
       "<table border=\"1\" class=\"dataframe\">\n",
       "  <thead>\n",
       "    <tr style=\"text-align: right;\">\n",
       "      <th></th>\n",
       "      <th>abbreviation</th>\n",
       "      <th>latitude</th>\n",
       "      <th>longitude</th>\n",
       "      <th>country</th>\n",
       "      <th>Country</th>\n",
       "      <th>UV radiation</th>\n",
       "    </tr>\n",
       "  </thead>\n",
       "  <tbody>\n",
       "    <tr>\n",
       "      <th>0</th>\n",
       "      <td>AD</td>\n",
       "      <td>42.546245</td>\n",
       "      <td>1.601554</td>\n",
       "      <td>Andorra</td>\n",
       "      <td>Andorra</td>\n",
       "      <td>2469</td>\n",
       "    </tr>\n",
       "    <tr>\n",
       "      <th>1</th>\n",
       "      <td>AE</td>\n",
       "      <td>23.424076</td>\n",
       "      <td>53.847818</td>\n",
       "      <td>United Arab Emirates</td>\n",
       "      <td>United Arab Emirates</td>\n",
       "      <td>4862</td>\n",
       "    </tr>\n",
       "    <tr>\n",
       "      <th>2</th>\n",
       "      <td>AF</td>\n",
       "      <td>33.939110</td>\n",
       "      <td>67.709953</td>\n",
       "      <td>Afghanistan</td>\n",
       "      <td>Afghanistan</td>\n",
       "      <td>4132</td>\n",
       "    </tr>\n",
       "    <tr>\n",
       "      <th>3</th>\n",
       "      <td>AG</td>\n",
       "      <td>17.060816</td>\n",
       "      <td>-61.796428</td>\n",
       "      <td>Antigua and Barbuda</td>\n",
       "      <td>Antigua and Barbuda</td>\n",
       "      <td>5148</td>\n",
       "    </tr>\n",
       "    <tr>\n",
       "      <th>4</th>\n",
       "      <td>AL</td>\n",
       "      <td>41.153332</td>\n",
       "      <td>20.168331</td>\n",
       "      <td>Albania</td>\n",
       "      <td>Albania</td>\n",
       "      <td>2542</td>\n",
       "    </tr>\n",
       "  </tbody>\n",
       "</table>\n",
       "</div>"
      ],
      "text/plain": [
       "  abbreviation   latitude  longitude               country  \\\n",
       "0           AD  42.546245   1.601554               Andorra   \n",
       "1           AE  23.424076  53.847818  United Arab Emirates   \n",
       "2           AF  33.939110  67.709953           Afghanistan   \n",
       "3           AG  17.060816 -61.796428   Antigua and Barbuda   \n",
       "4           AL  41.153332  20.168331               Albania   \n",
       "\n",
       "                Country  UV radiation  \n",
       "0               Andorra          2469  \n",
       "1  United Arab Emirates          4862  \n",
       "2           Afghanistan          4132  \n",
       "3   Antigua and Barbuda          5148  \n",
       "4               Albania          2542  "
      ]
     },
     "execution_count": 57,
     "metadata": {},
     "output_type": "execute_result"
    }
   ],
   "source": [
    "#Merged the two dataframe for CountryCoordinates and UVRadiation\n",
    "#Left_on is what column is on the left, and right_on is what column will be placed on the right\n",
    "world_stats = pd.merge(CountryCoordinates, UVRadiation, left_on='country', right_on='Country')\n",
    "\n",
    "#Check to verify dataframe was properly merged\n",
    "world_stats.head()"
   ]
  },
  {
   "cell_type": "code",
   "execution_count": 58,
   "id": "d0b78386",
   "metadata": {
    "scrolled": true
   },
   "outputs": [
    {
     "data": {
      "text/html": [
       "<div>\n",
       "<style scoped>\n",
       "    .dataframe tbody tr th:only-of-type {\n",
       "        vertical-align: middle;\n",
       "    }\n",
       "\n",
       "    .dataframe tbody tr th {\n",
       "        vertical-align: top;\n",
       "    }\n",
       "\n",
       "    .dataframe thead th {\n",
       "        text-align: right;\n",
       "    }\n",
       "</style>\n",
       "<table border=\"1\" class=\"dataframe\">\n",
       "  <thead>\n",
       "    <tr style=\"text-align: right;\">\n",
       "      <th></th>\n",
       "      <th>abbreviation</th>\n",
       "      <th>latitude</th>\n",
       "      <th>longitude</th>\n",
       "      <th>country_x</th>\n",
       "      <th>Country</th>\n",
       "      <th>UV radiation</th>\n",
       "      <th>country_y</th>\n",
       "      <th>continent</th>\n",
       "      <th>year</th>\n",
       "      <th>lifeExp</th>\n",
       "      <th>pop</th>\n",
       "      <th>gdpPercap</th>\n",
       "      <th>iso_alpha</th>\n",
       "      <th>iso_num</th>\n",
       "    </tr>\n",
       "  </thead>\n",
       "  <tbody>\n",
       "    <tr>\n",
       "      <th>0</th>\n",
       "      <td>AF</td>\n",
       "      <td>33.939110</td>\n",
       "      <td>67.709953</td>\n",
       "      <td>Afghanistan</td>\n",
       "      <td>Afghanistan</td>\n",
       "      <td>4132</td>\n",
       "      <td>Afghanistan</td>\n",
       "      <td>Asia</td>\n",
       "      <td>2007</td>\n",
       "      <td>43.828</td>\n",
       "      <td>31889923</td>\n",
       "      <td>974.580338</td>\n",
       "      <td>AFG</td>\n",
       "      <td>4</td>\n",
       "    </tr>\n",
       "    <tr>\n",
       "      <th>1</th>\n",
       "      <td>AL</td>\n",
       "      <td>41.153332</td>\n",
       "      <td>20.168331</td>\n",
       "      <td>Albania</td>\n",
       "      <td>Albania</td>\n",
       "      <td>2542</td>\n",
       "      <td>Albania</td>\n",
       "      <td>Europe</td>\n",
       "      <td>2007</td>\n",
       "      <td>76.423</td>\n",
       "      <td>3600523</td>\n",
       "      <td>5937.029526</td>\n",
       "      <td>ALB</td>\n",
       "      <td>8</td>\n",
       "    </tr>\n",
       "    <tr>\n",
       "      <th>2</th>\n",
       "      <td>AO</td>\n",
       "      <td>-11.202692</td>\n",
       "      <td>17.873887</td>\n",
       "      <td>Angola</td>\n",
       "      <td>Angola</td>\n",
       "      <td>5287</td>\n",
       "      <td>Angola</td>\n",
       "      <td>Africa</td>\n",
       "      <td>2007</td>\n",
       "      <td>42.731</td>\n",
       "      <td>12420476</td>\n",
       "      <td>4797.231267</td>\n",
       "      <td>AGO</td>\n",
       "      <td>24</td>\n",
       "    </tr>\n",
       "    <tr>\n",
       "      <th>3</th>\n",
       "      <td>AR</td>\n",
       "      <td>-38.416097</td>\n",
       "      <td>-63.616672</td>\n",
       "      <td>Argentina</td>\n",
       "      <td>Argentina</td>\n",
       "      <td>3476</td>\n",
       "      <td>Argentina</td>\n",
       "      <td>Americas</td>\n",
       "      <td>2007</td>\n",
       "      <td>75.320</td>\n",
       "      <td>40301927</td>\n",
       "      <td>12779.379640</td>\n",
       "      <td>ARG</td>\n",
       "      <td>32</td>\n",
       "    </tr>\n",
       "    <tr>\n",
       "      <th>4</th>\n",
       "      <td>AT</td>\n",
       "      <td>47.516231</td>\n",
       "      <td>14.550072</td>\n",
       "      <td>Austria</td>\n",
       "      <td>Austria</td>\n",
       "      <td>1888</td>\n",
       "      <td>Austria</td>\n",
       "      <td>Europe</td>\n",
       "      <td>2007</td>\n",
       "      <td>79.829</td>\n",
       "      <td>8199783</td>\n",
       "      <td>36126.492700</td>\n",
       "      <td>AUT</td>\n",
       "      <td>40</td>\n",
       "    </tr>\n",
       "    <tr>\n",
       "      <th>...</th>\n",
       "      <td>...</td>\n",
       "      <td>...</td>\n",
       "      <td>...</td>\n",
       "      <td>...</td>\n",
       "      <td>...</td>\n",
       "      <td>...</td>\n",
       "      <td>...</td>\n",
       "      <td>...</td>\n",
       "      <td>...</td>\n",
       "      <td>...</td>\n",
       "      <td>...</td>\n",
       "      <td>...</td>\n",
       "      <td>...</td>\n",
       "      <td>...</td>\n",
       "    </tr>\n",
       "    <tr>\n",
       "      <th>110</th>\n",
       "      <td>UG</td>\n",
       "      <td>1.373333</td>\n",
       "      <td>32.290275</td>\n",
       "      <td>Uganda</td>\n",
       "      <td>Uganda</td>\n",
       "      <td>5499</td>\n",
       "      <td>Uganda</td>\n",
       "      <td>Africa</td>\n",
       "      <td>2007</td>\n",
       "      <td>51.542</td>\n",
       "      <td>29170398</td>\n",
       "      <td>1056.380121</td>\n",
       "      <td>UGA</td>\n",
       "      <td>800</td>\n",
       "    </tr>\n",
       "    <tr>\n",
       "      <th>111</th>\n",
       "      <td>UY</td>\n",
       "      <td>-32.522779</td>\n",
       "      <td>-55.765835</td>\n",
       "      <td>Uruguay</td>\n",
       "      <td>Uruguay</td>\n",
       "      <td>3235</td>\n",
       "      <td>Uruguay</td>\n",
       "      <td>Americas</td>\n",
       "      <td>2007</td>\n",
       "      <td>76.384</td>\n",
       "      <td>3447496</td>\n",
       "      <td>10611.462990</td>\n",
       "      <td>URY</td>\n",
       "      <td>858</td>\n",
       "    </tr>\n",
       "    <tr>\n",
       "      <th>112</th>\n",
       "      <td>ZA</td>\n",
       "      <td>-30.559482</td>\n",
       "      <td>22.937506</td>\n",
       "      <td>South Africa</td>\n",
       "      <td>South Africa</td>\n",
       "      <td>4111</td>\n",
       "      <td>South Africa</td>\n",
       "      <td>Africa</td>\n",
       "      <td>2007</td>\n",
       "      <td>49.339</td>\n",
       "      <td>43997828</td>\n",
       "      <td>9269.657808</td>\n",
       "      <td>ZAF</td>\n",
       "      <td>710</td>\n",
       "    </tr>\n",
       "    <tr>\n",
       "      <th>113</th>\n",
       "      <td>ZM</td>\n",
       "      <td>-13.133897</td>\n",
       "      <td>27.849332</td>\n",
       "      <td>Zambia</td>\n",
       "      <td>Zambia</td>\n",
       "      <td>5265</td>\n",
       "      <td>Zambia</td>\n",
       "      <td>Africa</td>\n",
       "      <td>2007</td>\n",
       "      <td>42.384</td>\n",
       "      <td>11746035</td>\n",
       "      <td>1271.211593</td>\n",
       "      <td>ZMB</td>\n",
       "      <td>894</td>\n",
       "    </tr>\n",
       "    <tr>\n",
       "      <th>114</th>\n",
       "      <td>ZW</td>\n",
       "      <td>-19.015438</td>\n",
       "      <td>29.154857</td>\n",
       "      <td>Zimbabwe</td>\n",
       "      <td>Zimbabwe</td>\n",
       "      <td>4918</td>\n",
       "      <td>Zimbabwe</td>\n",
       "      <td>Africa</td>\n",
       "      <td>2007</td>\n",
       "      <td>43.487</td>\n",
       "      <td>12311143</td>\n",
       "      <td>469.709298</td>\n",
       "      <td>ZWE</td>\n",
       "      <td>716</td>\n",
       "    </tr>\n",
       "  </tbody>\n",
       "</table>\n",
       "<p>115 rows × 14 columns</p>\n",
       "</div>"
      ],
      "text/plain": [
       "    abbreviation   latitude  longitude     country_x       Country  \\\n",
       "0             AF  33.939110  67.709953   Afghanistan   Afghanistan   \n",
       "1             AL  41.153332  20.168331       Albania       Albania   \n",
       "2             AO -11.202692  17.873887        Angola        Angola   \n",
       "3             AR -38.416097 -63.616672     Argentina     Argentina   \n",
       "4             AT  47.516231  14.550072       Austria       Austria   \n",
       "..           ...        ...        ...           ...           ...   \n",
       "110           UG   1.373333  32.290275        Uganda        Uganda   \n",
       "111           UY -32.522779 -55.765835       Uruguay       Uruguay   \n",
       "112           ZA -30.559482  22.937506  South Africa  South Africa   \n",
       "113           ZM -13.133897  27.849332        Zambia        Zambia   \n",
       "114           ZW -19.015438  29.154857      Zimbabwe      Zimbabwe   \n",
       "\n",
       "     UV radiation     country_y continent  year  lifeExp       pop  \\\n",
       "0            4132   Afghanistan      Asia  2007   43.828  31889923   \n",
       "1            2542       Albania    Europe  2007   76.423   3600523   \n",
       "2            5287        Angola    Africa  2007   42.731  12420476   \n",
       "3            3476     Argentina  Americas  2007   75.320  40301927   \n",
       "4            1888       Austria    Europe  2007   79.829   8199783   \n",
       "..            ...           ...       ...   ...      ...       ...   \n",
       "110          5499        Uganda    Africa  2007   51.542  29170398   \n",
       "111          3235       Uruguay  Americas  2007   76.384   3447496   \n",
       "112          4111  South Africa    Africa  2007   49.339  43997828   \n",
       "113          5265        Zambia    Africa  2007   42.384  11746035   \n",
       "114          4918      Zimbabwe    Africa  2007   43.487  12311143   \n",
       "\n",
       "        gdpPercap iso_alpha  iso_num  \n",
       "0      974.580338       AFG        4  \n",
       "1     5937.029526       ALB        8  \n",
       "2     4797.231267       AGO       24  \n",
       "3    12779.379640       ARG       32  \n",
       "4    36126.492700       AUT       40  \n",
       "..            ...       ...      ...  \n",
       "110   1056.380121       UGA      800  \n",
       "111  10611.462990       URY      858  \n",
       "112   9269.657808       ZAF      710  \n",
       "113   1271.211593       ZMB      894  \n",
       "114    469.709298       ZWE      716  \n",
       "\n",
       "[115 rows x 14 columns]"
      ]
     },
     "execution_count": 58,
     "metadata": {},
     "output_type": "execute_result"
    }
   ],
   "source": [
    "#This dataframe is needed to produce a complete world map because it contains the \"iso_alpha\" values for each country\n",
    "#local variable year==2007\n",
    "df = px.data.gapminder().query(\"year==2007\")\n",
    "\n",
    "#Merged world_stats contents with that from \"df\" to retrieve \"iso_alpha\"\n",
    "#Set merged contents equal to new_world\n",
    "#Global variable new_world\n",
    "new_world = pd.merge(world_stats, df, left_on='Country', right_on='country')\n",
    "\n",
    "#Check to verify new dataframe was properly merged\n",
    "new_world"
   ]
  },
  {
   "cell_type": "markdown",
   "id": "9e361edc",
   "metadata": {},
   "source": [
    "## Project 2B: Show the Choropleth associated with Geocomputational Analyses\n",
    "A choropleth is a map used to represent a quantity of something in the form of colored polygons. The colors in the figure below reresent UV radiation levels. The greater the value, the stronger the UV radiation level."
   ]
  },
  {
   "cell_type": "code",
   "execution_count": 59,
   "id": "dde4e16a",
   "metadata": {},
   "outputs": [
    {
     "data": {
      "application/vnd.plotly.v1+json": {
       "config": {
        "plotlyServerURL": "https://plot.ly"
       },
       "data": [
        {
         "coloraxis": "coloraxis",
         "geo": "geo",
         "hovertemplate": "<b>%{hovertext}</b><br><br>iso_alpha=%{location}<br>UV radiation=%{z}<extra></extra>",
         "hovertext": [
          "Afghanistan",
          "Albania",
          "Angola",
          "Argentina",
          "Austria",
          "Australia",
          "Bosnia and Herzegovina",
          "Bangladesh",
          "Belgium",
          "Burkina Faso",
          "Bulgaria",
          "Bahrain",
          "Burundi",
          "Benin",
          "Brazil",
          "Botswana",
          "Canada",
          "Central African Republic",
          "Switzerland",
          "Chile",
          "Cameroon",
          "China",
          "Colombia",
          "Costa Rica",
          "Cuba",
          "Germany",
          "Djibouti",
          "Denmark",
          "Dominican Republic",
          "Algeria",
          "Ecuador",
          "Egypt",
          "Eritrea",
          "Spain",
          "Ethiopia",
          "Finland",
          "France",
          "Gabon",
          "Ghana",
          "Gambia",
          "Guinea",
          "Equatorial Guinea",
          "Greece",
          "Guatemala",
          "Guinea-Bissau",
          "Honduras",
          "Croatia",
          "Haiti",
          "Hungary",
          "Indonesia",
          "Ireland",
          "Israel",
          "India",
          "Iraq",
          "Iceland",
          "Italy",
          "Jamaica",
          "Jordan",
          "Japan",
          "Kenya",
          "Cambodia",
          "Comoros",
          "Kuwait",
          "Lebanon",
          "Sri Lanka",
          "Liberia",
          "Lesotho",
          "Libya",
          "Morocco",
          "Madagascar",
          "Mali",
          "Mongolia",
          "Mauritania",
          "Mauritius",
          "Malawi",
          "Mexico",
          "Malaysia",
          "Mozambique",
          "Niger",
          "Nigeria",
          "Nicaragua",
          "Netherlands",
          "Norway",
          "Nepal",
          "New Zealand",
          "Oman",
          "Panama",
          "Peru",
          "Philippines",
          "Pakistan",
          "Poland",
          "Portugal",
          "Paraguay",
          "Romania",
          "Rwanda",
          "Saudi Arabia",
          "Sudan",
          "Sweden",
          "Singapore",
          "Slovenia",
          "Sierra Leone",
          "Senegal",
          "Somalia",
          "El Salvador",
          "Chad",
          "Togo",
          "Thailand",
          "Tunisia",
          "Turkey",
          "Trinidad and Tobago",
          "Uganda",
          "Uruguay",
          "South Africa",
          "Zambia",
          "Zimbabwe"
         ],
         "locations": [
          "AFG",
          "ALB",
          "AGO",
          "ARG",
          "AUT",
          "AUS",
          "BIH",
          "BGD",
          "BEL",
          "BFA",
          "BGR",
          "BHR",
          "BDI",
          "BEN",
          "BRA",
          "BWA",
          "CAN",
          "CAF",
          "CHE",
          "CHL",
          "CMR",
          "CHN",
          "COL",
          "CRI",
          "CUB",
          "DEU",
          "DJI",
          "DNK",
          "DOM",
          "DZA",
          "ECU",
          "EGY",
          "ERI",
          "ESP",
          "ETH",
          "FIN",
          "FRA",
          "GAB",
          "GHA",
          "GMB",
          "GIN",
          "GNQ",
          "GRC",
          "GTM",
          "GNB",
          "HND",
          "HRV",
          "HTI",
          "HUN",
          "IDN",
          "IRL",
          "ISR",
          "IND",
          "IRQ",
          "ISL",
          "ITA",
          "JAM",
          "JOR",
          "JPN",
          "KEN",
          "KHM",
          "COM",
          "KWT",
          "LBN",
          "LKA",
          "LBR",
          "LSO",
          "LBY",
          "MAR",
          "MDG",
          "MLI",
          "MNG",
          "MRT",
          "MUS",
          "MWI",
          "MEX",
          "MYS",
          "MOZ",
          "NER",
          "NGA",
          "NIC",
          "NLD",
          "NOR",
          "NPL",
          "NZL",
          "OMN",
          "PAN",
          "PER",
          "PHL",
          "PAK",
          "POL",
          "PRT",
          "PRY",
          "ROU",
          "RWA",
          "SAU",
          "SDN",
          "SWE",
          "SGP",
          "SVN",
          "SLE",
          "SEN",
          "SOM",
          "SLV",
          "TCD",
          "TGO",
          "THA",
          "TUN",
          "TUR",
          "TTO",
          "UGA",
          "URY",
          "ZAF",
          "ZMB",
          "ZWE"
         ],
         "name": "",
         "type": "choropleth",
         "z": [
          4132,
          2542,
          5287,
          3476,
          1888,
          3206,
          2205,
          4029,
          1645,
          5567,
          2331,
          4419,
          5111,
          5168,
          4552,
          4868,
          1887,
          5498,
          2158,
          3982,
          5185,
          2908,
          5385,
          4884,
          4401,
          1812,
          5461,
          1691,
          4880,
          3253,
          4929,
          4202,
          5914,
          2705,
          5929,
          1494,
          1907,
          4654,
          5166,
          5358,
          5391,
          4635,
          2753,
          5141,
          5319,
          4924,
          1976,
          5016,
          1932,
          5220,
          1509,
          3682,
          4514,
          3825,
          957,
          2444,
          4942,
          4026,
          2521,
          5803,
          5152,
          5524,
          4214,
          2953,
          5264,
          4926,
          4439,
          3861,
          3568,
          4771,
          5617,
          2226,
          5547,
          5055,
          5019,
          4974,
          5225,
          4646,
          5811,
          5251,
          5078,
          1662,
          1439,
          4130,
          2487,
          5102,
          4898,
          5906,
          4928,
          4227,
          1749,
          2585,
          4038,
          2071,
          5130,
          5384,
          5783,
          1587,
          3979,
          2256,
          5087,
          5356,
          5773,
          5364,
          5669,
          5307,
          4862,
          3262,
          2924,
          5245,
          5499,
          3235,
          4111,
          5265,
          4918
         ]
        }
       ],
       "layout": {
        "coloraxis": {
         "colorbar": {
          "title": {
           "text": "UV radiation"
          }
         },
         "colorscale": [
          [
           0,
           "#0d0887"
          ],
          [
           0.1111111111111111,
           "#46039f"
          ],
          [
           0.2222222222222222,
           "#7201a8"
          ],
          [
           0.3333333333333333,
           "#9c179e"
          ],
          [
           0.4444444444444444,
           "#bd3786"
          ],
          [
           0.5555555555555556,
           "#d8576b"
          ],
          [
           0.6666666666666666,
           "#ed7953"
          ],
          [
           0.7777777777777778,
           "#fb9f3a"
          ],
          [
           0.8888888888888888,
           "#fdca26"
          ],
          [
           1,
           "#f0f921"
          ]
         ]
        },
        "geo": {
         "center": {},
         "domain": {
          "x": [
           0,
           1
          ],
          "y": [
           0,
           1
          ]
         }
        },
        "legend": {
         "tracegroupgap": 0
        },
        "margin": {
         "t": 60
        },
        "template": {
         "data": {
          "bar": [
           {
            "error_x": {
             "color": "#2a3f5f"
            },
            "error_y": {
             "color": "#2a3f5f"
            },
            "marker": {
             "line": {
              "color": "#E5ECF6",
              "width": 0.5
             },
             "pattern": {
              "fillmode": "overlay",
              "size": 10,
              "solidity": 0.2
             }
            },
            "type": "bar"
           }
          ],
          "barpolar": [
           {
            "marker": {
             "line": {
              "color": "#E5ECF6",
              "width": 0.5
             },
             "pattern": {
              "fillmode": "overlay",
              "size": 10,
              "solidity": 0.2
             }
            },
            "type": "barpolar"
           }
          ],
          "carpet": [
           {
            "aaxis": {
             "endlinecolor": "#2a3f5f",
             "gridcolor": "white",
             "linecolor": "white",
             "minorgridcolor": "white",
             "startlinecolor": "#2a3f5f"
            },
            "baxis": {
             "endlinecolor": "#2a3f5f",
             "gridcolor": "white",
             "linecolor": "white",
             "minorgridcolor": "white",
             "startlinecolor": "#2a3f5f"
            },
            "type": "carpet"
           }
          ],
          "choropleth": [
           {
            "colorbar": {
             "outlinewidth": 0,
             "ticks": ""
            },
            "type": "choropleth"
           }
          ],
          "contour": [
           {
            "colorbar": {
             "outlinewidth": 0,
             "ticks": ""
            },
            "colorscale": [
             [
              0,
              "#0d0887"
             ],
             [
              0.1111111111111111,
              "#46039f"
             ],
             [
              0.2222222222222222,
              "#7201a8"
             ],
             [
              0.3333333333333333,
              "#9c179e"
             ],
             [
              0.4444444444444444,
              "#bd3786"
             ],
             [
              0.5555555555555556,
              "#d8576b"
             ],
             [
              0.6666666666666666,
              "#ed7953"
             ],
             [
              0.7777777777777778,
              "#fb9f3a"
             ],
             [
              0.8888888888888888,
              "#fdca26"
             ],
             [
              1,
              "#f0f921"
             ]
            ],
            "type": "contour"
           }
          ],
          "contourcarpet": [
           {
            "colorbar": {
             "outlinewidth": 0,
             "ticks": ""
            },
            "type": "contourcarpet"
           }
          ],
          "heatmap": [
           {
            "colorbar": {
             "outlinewidth": 0,
             "ticks": ""
            },
            "colorscale": [
             [
              0,
              "#0d0887"
             ],
             [
              0.1111111111111111,
              "#46039f"
             ],
             [
              0.2222222222222222,
              "#7201a8"
             ],
             [
              0.3333333333333333,
              "#9c179e"
             ],
             [
              0.4444444444444444,
              "#bd3786"
             ],
             [
              0.5555555555555556,
              "#d8576b"
             ],
             [
              0.6666666666666666,
              "#ed7953"
             ],
             [
              0.7777777777777778,
              "#fb9f3a"
             ],
             [
              0.8888888888888888,
              "#fdca26"
             ],
             [
              1,
              "#f0f921"
             ]
            ],
            "type": "heatmap"
           }
          ],
          "heatmapgl": [
           {
            "colorbar": {
             "outlinewidth": 0,
             "ticks": ""
            },
            "colorscale": [
             [
              0,
              "#0d0887"
             ],
             [
              0.1111111111111111,
              "#46039f"
             ],
             [
              0.2222222222222222,
              "#7201a8"
             ],
             [
              0.3333333333333333,
              "#9c179e"
             ],
             [
              0.4444444444444444,
              "#bd3786"
             ],
             [
              0.5555555555555556,
              "#d8576b"
             ],
             [
              0.6666666666666666,
              "#ed7953"
             ],
             [
              0.7777777777777778,
              "#fb9f3a"
             ],
             [
              0.8888888888888888,
              "#fdca26"
             ],
             [
              1,
              "#f0f921"
             ]
            ],
            "type": "heatmapgl"
           }
          ],
          "histogram": [
           {
            "marker": {
             "pattern": {
              "fillmode": "overlay",
              "size": 10,
              "solidity": 0.2
             }
            },
            "type": "histogram"
           }
          ],
          "histogram2d": [
           {
            "colorbar": {
             "outlinewidth": 0,
             "ticks": ""
            },
            "colorscale": [
             [
              0,
              "#0d0887"
             ],
             [
              0.1111111111111111,
              "#46039f"
             ],
             [
              0.2222222222222222,
              "#7201a8"
             ],
             [
              0.3333333333333333,
              "#9c179e"
             ],
             [
              0.4444444444444444,
              "#bd3786"
             ],
             [
              0.5555555555555556,
              "#d8576b"
             ],
             [
              0.6666666666666666,
              "#ed7953"
             ],
             [
              0.7777777777777778,
              "#fb9f3a"
             ],
             [
              0.8888888888888888,
              "#fdca26"
             ],
             [
              1,
              "#f0f921"
             ]
            ],
            "type": "histogram2d"
           }
          ],
          "histogram2dcontour": [
           {
            "colorbar": {
             "outlinewidth": 0,
             "ticks": ""
            },
            "colorscale": [
             [
              0,
              "#0d0887"
             ],
             [
              0.1111111111111111,
              "#46039f"
             ],
             [
              0.2222222222222222,
              "#7201a8"
             ],
             [
              0.3333333333333333,
              "#9c179e"
             ],
             [
              0.4444444444444444,
              "#bd3786"
             ],
             [
              0.5555555555555556,
              "#d8576b"
             ],
             [
              0.6666666666666666,
              "#ed7953"
             ],
             [
              0.7777777777777778,
              "#fb9f3a"
             ],
             [
              0.8888888888888888,
              "#fdca26"
             ],
             [
              1,
              "#f0f921"
             ]
            ],
            "type": "histogram2dcontour"
           }
          ],
          "mesh3d": [
           {
            "colorbar": {
             "outlinewidth": 0,
             "ticks": ""
            },
            "type": "mesh3d"
           }
          ],
          "parcoords": [
           {
            "line": {
             "colorbar": {
              "outlinewidth": 0,
              "ticks": ""
             }
            },
            "type": "parcoords"
           }
          ],
          "pie": [
           {
            "automargin": true,
            "type": "pie"
           }
          ],
          "scatter": [
           {
            "marker": {
             "colorbar": {
              "outlinewidth": 0,
              "ticks": ""
             }
            },
            "type": "scatter"
           }
          ],
          "scatter3d": [
           {
            "line": {
             "colorbar": {
              "outlinewidth": 0,
              "ticks": ""
             }
            },
            "marker": {
             "colorbar": {
              "outlinewidth": 0,
              "ticks": ""
             }
            },
            "type": "scatter3d"
           }
          ],
          "scattercarpet": [
           {
            "marker": {
             "colorbar": {
              "outlinewidth": 0,
              "ticks": ""
             }
            },
            "type": "scattercarpet"
           }
          ],
          "scattergeo": [
           {
            "marker": {
             "colorbar": {
              "outlinewidth": 0,
              "ticks": ""
             }
            },
            "type": "scattergeo"
           }
          ],
          "scattergl": [
           {
            "marker": {
             "colorbar": {
              "outlinewidth": 0,
              "ticks": ""
             }
            },
            "type": "scattergl"
           }
          ],
          "scattermapbox": [
           {
            "marker": {
             "colorbar": {
              "outlinewidth": 0,
              "ticks": ""
             }
            },
            "type": "scattermapbox"
           }
          ],
          "scatterpolar": [
           {
            "marker": {
             "colorbar": {
              "outlinewidth": 0,
              "ticks": ""
             }
            },
            "type": "scatterpolar"
           }
          ],
          "scatterpolargl": [
           {
            "marker": {
             "colorbar": {
              "outlinewidth": 0,
              "ticks": ""
             }
            },
            "type": "scatterpolargl"
           }
          ],
          "scatterternary": [
           {
            "marker": {
             "colorbar": {
              "outlinewidth": 0,
              "ticks": ""
             }
            },
            "type": "scatterternary"
           }
          ],
          "surface": [
           {
            "colorbar": {
             "outlinewidth": 0,
             "ticks": ""
            },
            "colorscale": [
             [
              0,
              "#0d0887"
             ],
             [
              0.1111111111111111,
              "#46039f"
             ],
             [
              0.2222222222222222,
              "#7201a8"
             ],
             [
              0.3333333333333333,
              "#9c179e"
             ],
             [
              0.4444444444444444,
              "#bd3786"
             ],
             [
              0.5555555555555556,
              "#d8576b"
             ],
             [
              0.6666666666666666,
              "#ed7953"
             ],
             [
              0.7777777777777778,
              "#fb9f3a"
             ],
             [
              0.8888888888888888,
              "#fdca26"
             ],
             [
              1,
              "#f0f921"
             ]
            ],
            "type": "surface"
           }
          ],
          "table": [
           {
            "cells": {
             "fill": {
              "color": "#EBF0F8"
             },
             "line": {
              "color": "white"
             }
            },
            "header": {
             "fill": {
              "color": "#C8D4E3"
             },
             "line": {
              "color": "white"
             }
            },
            "type": "table"
           }
          ]
         },
         "layout": {
          "annotationdefaults": {
           "arrowcolor": "#2a3f5f",
           "arrowhead": 0,
           "arrowwidth": 1
          },
          "autotypenumbers": "strict",
          "coloraxis": {
           "colorbar": {
            "outlinewidth": 0,
            "ticks": ""
           }
          },
          "colorscale": {
           "diverging": [
            [
             0,
             "#8e0152"
            ],
            [
             0.1,
             "#c51b7d"
            ],
            [
             0.2,
             "#de77ae"
            ],
            [
             0.3,
             "#f1b6da"
            ],
            [
             0.4,
             "#fde0ef"
            ],
            [
             0.5,
             "#f7f7f7"
            ],
            [
             0.6,
             "#e6f5d0"
            ],
            [
             0.7,
             "#b8e186"
            ],
            [
             0.8,
             "#7fbc41"
            ],
            [
             0.9,
             "#4d9221"
            ],
            [
             1,
             "#276419"
            ]
           ],
           "sequential": [
            [
             0,
             "#0d0887"
            ],
            [
             0.1111111111111111,
             "#46039f"
            ],
            [
             0.2222222222222222,
             "#7201a8"
            ],
            [
             0.3333333333333333,
             "#9c179e"
            ],
            [
             0.4444444444444444,
             "#bd3786"
            ],
            [
             0.5555555555555556,
             "#d8576b"
            ],
            [
             0.6666666666666666,
             "#ed7953"
            ],
            [
             0.7777777777777778,
             "#fb9f3a"
            ],
            [
             0.8888888888888888,
             "#fdca26"
            ],
            [
             1,
             "#f0f921"
            ]
           ],
           "sequentialminus": [
            [
             0,
             "#0d0887"
            ],
            [
             0.1111111111111111,
             "#46039f"
            ],
            [
             0.2222222222222222,
             "#7201a8"
            ],
            [
             0.3333333333333333,
             "#9c179e"
            ],
            [
             0.4444444444444444,
             "#bd3786"
            ],
            [
             0.5555555555555556,
             "#d8576b"
            ],
            [
             0.6666666666666666,
             "#ed7953"
            ],
            [
             0.7777777777777778,
             "#fb9f3a"
            ],
            [
             0.8888888888888888,
             "#fdca26"
            ],
            [
             1,
             "#f0f921"
            ]
           ]
          },
          "colorway": [
           "#636efa",
           "#EF553B",
           "#00cc96",
           "#ab63fa",
           "#FFA15A",
           "#19d3f3",
           "#FF6692",
           "#B6E880",
           "#FF97FF",
           "#FECB52"
          ],
          "font": {
           "color": "#2a3f5f"
          },
          "geo": {
           "bgcolor": "white",
           "lakecolor": "white",
           "landcolor": "#E5ECF6",
           "showlakes": true,
           "showland": true,
           "subunitcolor": "white"
          },
          "hoverlabel": {
           "align": "left"
          },
          "hovermode": "closest",
          "mapbox": {
           "style": "light"
          },
          "paper_bgcolor": "white",
          "plot_bgcolor": "#E5ECF6",
          "polar": {
           "angularaxis": {
            "gridcolor": "white",
            "linecolor": "white",
            "ticks": ""
           },
           "bgcolor": "#E5ECF6",
           "radialaxis": {
            "gridcolor": "white",
            "linecolor": "white",
            "ticks": ""
           }
          },
          "scene": {
           "xaxis": {
            "backgroundcolor": "#E5ECF6",
            "gridcolor": "white",
            "gridwidth": 2,
            "linecolor": "white",
            "showbackground": true,
            "ticks": "",
            "zerolinecolor": "white"
           },
           "yaxis": {
            "backgroundcolor": "#E5ECF6",
            "gridcolor": "white",
            "gridwidth": 2,
            "linecolor": "white",
            "showbackground": true,
            "ticks": "",
            "zerolinecolor": "white"
           },
           "zaxis": {
            "backgroundcolor": "#E5ECF6",
            "gridcolor": "white",
            "gridwidth": 2,
            "linecolor": "white",
            "showbackground": true,
            "ticks": "",
            "zerolinecolor": "white"
           }
          },
          "shapedefaults": {
           "line": {
            "color": "#2a3f5f"
           }
          },
          "ternary": {
           "aaxis": {
            "gridcolor": "white",
            "linecolor": "white",
            "ticks": ""
           },
           "baxis": {
            "gridcolor": "white",
            "linecolor": "white",
            "ticks": ""
           },
           "bgcolor": "#E5ECF6",
           "caxis": {
            "gridcolor": "white",
            "linecolor": "white",
            "ticks": ""
           }
          },
          "title": {
           "x": 0.05
          },
          "xaxis": {
           "automargin": true,
           "gridcolor": "white",
           "linecolor": "white",
           "ticks": "",
           "title": {
            "standoff": 15
           },
           "zerolinecolor": "white",
           "zerolinewidth": 2
          },
          "yaxis": {
           "automargin": true,
           "gridcolor": "white",
           "linecolor": "white",
           "ticks": "",
           "title": {
            "standoff": 15
           },
           "zerolinecolor": "white",
           "zerolinewidth": 2
          }
         }
        }
       }
      },
      "text/html": [
       "<div>                            <div id=\"33804767-cf0c-42c4-8bc1-2f80940d6dd2\" class=\"plotly-graph-div\" style=\"height:525px; width:100%;\"></div>            <script type=\"text/javascript\">                require([\"plotly\"], function(Plotly) {                    window.PLOTLYENV=window.PLOTLYENV || {};                                    if (document.getElementById(\"33804767-cf0c-42c4-8bc1-2f80940d6dd2\")) {                    Plotly.newPlot(                        \"33804767-cf0c-42c4-8bc1-2f80940d6dd2\",                        [{\"coloraxis\":\"coloraxis\",\"geo\":\"geo\",\"hovertemplate\":\"<b>%{hovertext}</b><br><br>iso_alpha=%{location}<br>UV radiation=%{z}<extra></extra>\",\"hovertext\":[\"Afghanistan\",\"Albania\",\"Angola\",\"Argentina\",\"Austria\",\"Australia\",\"Bosnia and Herzegovina\",\"Bangladesh\",\"Belgium\",\"Burkina Faso\",\"Bulgaria\",\"Bahrain\",\"Burundi\",\"Benin\",\"Brazil\",\"Botswana\",\"Canada\",\"Central African Republic\",\"Switzerland\",\"Chile\",\"Cameroon\",\"China\",\"Colombia\",\"Costa Rica\",\"Cuba\",\"Germany\",\"Djibouti\",\"Denmark\",\"Dominican Republic\",\"Algeria\",\"Ecuador\",\"Egypt\",\"Eritrea\",\"Spain\",\"Ethiopia\",\"Finland\",\"France\",\"Gabon\",\"Ghana\",\"Gambia\",\"Guinea\",\"Equatorial Guinea\",\"Greece\",\"Guatemala\",\"Guinea-Bissau\",\"Honduras\",\"Croatia\",\"Haiti\",\"Hungary\",\"Indonesia\",\"Ireland\",\"Israel\",\"India\",\"Iraq\",\"Iceland\",\"Italy\",\"Jamaica\",\"Jordan\",\"Japan\",\"Kenya\",\"Cambodia\",\"Comoros\",\"Kuwait\",\"Lebanon\",\"Sri Lanka\",\"Liberia\",\"Lesotho\",\"Libya\",\"Morocco\",\"Madagascar\",\"Mali\",\"Mongolia\",\"Mauritania\",\"Mauritius\",\"Malawi\",\"Mexico\",\"Malaysia\",\"Mozambique\",\"Niger\",\"Nigeria\",\"Nicaragua\",\"Netherlands\",\"Norway\",\"Nepal\",\"New Zealand\",\"Oman\",\"Panama\",\"Peru\",\"Philippines\",\"Pakistan\",\"Poland\",\"Portugal\",\"Paraguay\",\"Romania\",\"Rwanda\",\"Saudi Arabia\",\"Sudan\",\"Sweden\",\"Singapore\",\"Slovenia\",\"Sierra Leone\",\"Senegal\",\"Somalia\",\"El Salvador\",\"Chad\",\"Togo\",\"Thailand\",\"Tunisia\",\"Turkey\",\"Trinidad and Tobago\",\"Uganda\",\"Uruguay\",\"South Africa\",\"Zambia\",\"Zimbabwe\"],\"locations\":[\"AFG\",\"ALB\",\"AGO\",\"ARG\",\"AUT\",\"AUS\",\"BIH\",\"BGD\",\"BEL\",\"BFA\",\"BGR\",\"BHR\",\"BDI\",\"BEN\",\"BRA\",\"BWA\",\"CAN\",\"CAF\",\"CHE\",\"CHL\",\"CMR\",\"CHN\",\"COL\",\"CRI\",\"CUB\",\"DEU\",\"DJI\",\"DNK\",\"DOM\",\"DZA\",\"ECU\",\"EGY\",\"ERI\",\"ESP\",\"ETH\",\"FIN\",\"FRA\",\"GAB\",\"GHA\",\"GMB\",\"GIN\",\"GNQ\",\"GRC\",\"GTM\",\"GNB\",\"HND\",\"HRV\",\"HTI\",\"HUN\",\"IDN\",\"IRL\",\"ISR\",\"IND\",\"IRQ\",\"ISL\",\"ITA\",\"JAM\",\"JOR\",\"JPN\",\"KEN\",\"KHM\",\"COM\",\"KWT\",\"LBN\",\"LKA\",\"LBR\",\"LSO\",\"LBY\",\"MAR\",\"MDG\",\"MLI\",\"MNG\",\"MRT\",\"MUS\",\"MWI\",\"MEX\",\"MYS\",\"MOZ\",\"NER\",\"NGA\",\"NIC\",\"NLD\",\"NOR\",\"NPL\",\"NZL\",\"OMN\",\"PAN\",\"PER\",\"PHL\",\"PAK\",\"POL\",\"PRT\",\"PRY\",\"ROU\",\"RWA\",\"SAU\",\"SDN\",\"SWE\",\"SGP\",\"SVN\",\"SLE\",\"SEN\",\"SOM\",\"SLV\",\"TCD\",\"TGO\",\"THA\",\"TUN\",\"TUR\",\"TTO\",\"UGA\",\"URY\",\"ZAF\",\"ZMB\",\"ZWE\"],\"name\":\"\",\"z\":[4132,2542,5287,3476,1888,3206,2205,4029,1645,5567,2331,4419,5111,5168,4552,4868,1887,5498,2158,3982,5185,2908,5385,4884,4401,1812,5461,1691,4880,3253,4929,4202,5914,2705,5929,1494,1907,4654,5166,5358,5391,4635,2753,5141,5319,4924,1976,5016,1932,5220,1509,3682,4514,3825,957,2444,4942,4026,2521,5803,5152,5524,4214,2953,5264,4926,4439,3861,3568,4771,5617,2226,5547,5055,5019,4974,5225,4646,5811,5251,5078,1662,1439,4130,2487,5102,4898,5906,4928,4227,1749,2585,4038,2071,5130,5384,5783,1587,3979,2256,5087,5356,5773,5364,5669,5307,4862,3262,2924,5245,5499,3235,4111,5265,4918],\"type\":\"choropleth\"}],                        {\"template\":{\"data\":{\"bar\":[{\"error_x\":{\"color\":\"#2a3f5f\"},\"error_y\":{\"color\":\"#2a3f5f\"},\"marker\":{\"line\":{\"color\":\"#E5ECF6\",\"width\":0.5},\"pattern\":{\"fillmode\":\"overlay\",\"size\":10,\"solidity\":0.2}},\"type\":\"bar\"}],\"barpolar\":[{\"marker\":{\"line\":{\"color\":\"#E5ECF6\",\"width\":0.5},\"pattern\":{\"fillmode\":\"overlay\",\"size\":10,\"solidity\":0.2}},\"type\":\"barpolar\"}],\"carpet\":[{\"aaxis\":{\"endlinecolor\":\"#2a3f5f\",\"gridcolor\":\"white\",\"linecolor\":\"white\",\"minorgridcolor\":\"white\",\"startlinecolor\":\"#2a3f5f\"},\"baxis\":{\"endlinecolor\":\"#2a3f5f\",\"gridcolor\":\"white\",\"linecolor\":\"white\",\"minorgridcolor\":\"white\",\"startlinecolor\":\"#2a3f5f\"},\"type\":\"carpet\"}],\"choropleth\":[{\"colorbar\":{\"outlinewidth\":0,\"ticks\":\"\"},\"type\":\"choropleth\"}],\"contour\":[{\"colorbar\":{\"outlinewidth\":0,\"ticks\":\"\"},\"colorscale\":[[0.0,\"#0d0887\"],[0.1111111111111111,\"#46039f\"],[0.2222222222222222,\"#7201a8\"],[0.3333333333333333,\"#9c179e\"],[0.4444444444444444,\"#bd3786\"],[0.5555555555555556,\"#d8576b\"],[0.6666666666666666,\"#ed7953\"],[0.7777777777777778,\"#fb9f3a\"],[0.8888888888888888,\"#fdca26\"],[1.0,\"#f0f921\"]],\"type\":\"contour\"}],\"contourcarpet\":[{\"colorbar\":{\"outlinewidth\":0,\"ticks\":\"\"},\"type\":\"contourcarpet\"}],\"heatmap\":[{\"colorbar\":{\"outlinewidth\":0,\"ticks\":\"\"},\"colorscale\":[[0.0,\"#0d0887\"],[0.1111111111111111,\"#46039f\"],[0.2222222222222222,\"#7201a8\"],[0.3333333333333333,\"#9c179e\"],[0.4444444444444444,\"#bd3786\"],[0.5555555555555556,\"#d8576b\"],[0.6666666666666666,\"#ed7953\"],[0.7777777777777778,\"#fb9f3a\"],[0.8888888888888888,\"#fdca26\"],[1.0,\"#f0f921\"]],\"type\":\"heatmap\"}],\"heatmapgl\":[{\"colorbar\":{\"outlinewidth\":0,\"ticks\":\"\"},\"colorscale\":[[0.0,\"#0d0887\"],[0.1111111111111111,\"#46039f\"],[0.2222222222222222,\"#7201a8\"],[0.3333333333333333,\"#9c179e\"],[0.4444444444444444,\"#bd3786\"],[0.5555555555555556,\"#d8576b\"],[0.6666666666666666,\"#ed7953\"],[0.7777777777777778,\"#fb9f3a\"],[0.8888888888888888,\"#fdca26\"],[1.0,\"#f0f921\"]],\"type\":\"heatmapgl\"}],\"histogram\":[{\"marker\":{\"pattern\":{\"fillmode\":\"overlay\",\"size\":10,\"solidity\":0.2}},\"type\":\"histogram\"}],\"histogram2d\":[{\"colorbar\":{\"outlinewidth\":0,\"ticks\":\"\"},\"colorscale\":[[0.0,\"#0d0887\"],[0.1111111111111111,\"#46039f\"],[0.2222222222222222,\"#7201a8\"],[0.3333333333333333,\"#9c179e\"],[0.4444444444444444,\"#bd3786\"],[0.5555555555555556,\"#d8576b\"],[0.6666666666666666,\"#ed7953\"],[0.7777777777777778,\"#fb9f3a\"],[0.8888888888888888,\"#fdca26\"],[1.0,\"#f0f921\"]],\"type\":\"histogram2d\"}],\"histogram2dcontour\":[{\"colorbar\":{\"outlinewidth\":0,\"ticks\":\"\"},\"colorscale\":[[0.0,\"#0d0887\"],[0.1111111111111111,\"#46039f\"],[0.2222222222222222,\"#7201a8\"],[0.3333333333333333,\"#9c179e\"],[0.4444444444444444,\"#bd3786\"],[0.5555555555555556,\"#d8576b\"],[0.6666666666666666,\"#ed7953\"],[0.7777777777777778,\"#fb9f3a\"],[0.8888888888888888,\"#fdca26\"],[1.0,\"#f0f921\"]],\"type\":\"histogram2dcontour\"}],\"mesh3d\":[{\"colorbar\":{\"outlinewidth\":0,\"ticks\":\"\"},\"type\":\"mesh3d\"}],\"parcoords\":[{\"line\":{\"colorbar\":{\"outlinewidth\":0,\"ticks\":\"\"}},\"type\":\"parcoords\"}],\"pie\":[{\"automargin\":true,\"type\":\"pie\"}],\"scatter\":[{\"marker\":{\"colorbar\":{\"outlinewidth\":0,\"ticks\":\"\"}},\"type\":\"scatter\"}],\"scatter3d\":[{\"line\":{\"colorbar\":{\"outlinewidth\":0,\"ticks\":\"\"}},\"marker\":{\"colorbar\":{\"outlinewidth\":0,\"ticks\":\"\"}},\"type\":\"scatter3d\"}],\"scattercarpet\":[{\"marker\":{\"colorbar\":{\"outlinewidth\":0,\"ticks\":\"\"}},\"type\":\"scattercarpet\"}],\"scattergeo\":[{\"marker\":{\"colorbar\":{\"outlinewidth\":0,\"ticks\":\"\"}},\"type\":\"scattergeo\"}],\"scattergl\":[{\"marker\":{\"colorbar\":{\"outlinewidth\":0,\"ticks\":\"\"}},\"type\":\"scattergl\"}],\"scattermapbox\":[{\"marker\":{\"colorbar\":{\"outlinewidth\":0,\"ticks\":\"\"}},\"type\":\"scattermapbox\"}],\"scatterpolar\":[{\"marker\":{\"colorbar\":{\"outlinewidth\":0,\"ticks\":\"\"}},\"type\":\"scatterpolar\"}],\"scatterpolargl\":[{\"marker\":{\"colorbar\":{\"outlinewidth\":0,\"ticks\":\"\"}},\"type\":\"scatterpolargl\"}],\"scatterternary\":[{\"marker\":{\"colorbar\":{\"outlinewidth\":0,\"ticks\":\"\"}},\"type\":\"scatterternary\"}],\"surface\":[{\"colorbar\":{\"outlinewidth\":0,\"ticks\":\"\"},\"colorscale\":[[0.0,\"#0d0887\"],[0.1111111111111111,\"#46039f\"],[0.2222222222222222,\"#7201a8\"],[0.3333333333333333,\"#9c179e\"],[0.4444444444444444,\"#bd3786\"],[0.5555555555555556,\"#d8576b\"],[0.6666666666666666,\"#ed7953\"],[0.7777777777777778,\"#fb9f3a\"],[0.8888888888888888,\"#fdca26\"],[1.0,\"#f0f921\"]],\"type\":\"surface\"}],\"table\":[{\"cells\":{\"fill\":{\"color\":\"#EBF0F8\"},\"line\":{\"color\":\"white\"}},\"header\":{\"fill\":{\"color\":\"#C8D4E3\"},\"line\":{\"color\":\"white\"}},\"type\":\"table\"}]},\"layout\":{\"annotationdefaults\":{\"arrowcolor\":\"#2a3f5f\",\"arrowhead\":0,\"arrowwidth\":1},\"autotypenumbers\":\"strict\",\"coloraxis\":{\"colorbar\":{\"outlinewidth\":0,\"ticks\":\"\"}},\"colorscale\":{\"diverging\":[[0,\"#8e0152\"],[0.1,\"#c51b7d\"],[0.2,\"#de77ae\"],[0.3,\"#f1b6da\"],[0.4,\"#fde0ef\"],[0.5,\"#f7f7f7\"],[0.6,\"#e6f5d0\"],[0.7,\"#b8e186\"],[0.8,\"#7fbc41\"],[0.9,\"#4d9221\"],[1,\"#276419\"]],\"sequential\":[[0.0,\"#0d0887\"],[0.1111111111111111,\"#46039f\"],[0.2222222222222222,\"#7201a8\"],[0.3333333333333333,\"#9c179e\"],[0.4444444444444444,\"#bd3786\"],[0.5555555555555556,\"#d8576b\"],[0.6666666666666666,\"#ed7953\"],[0.7777777777777778,\"#fb9f3a\"],[0.8888888888888888,\"#fdca26\"],[1.0,\"#f0f921\"]],\"sequentialminus\":[[0.0,\"#0d0887\"],[0.1111111111111111,\"#46039f\"],[0.2222222222222222,\"#7201a8\"],[0.3333333333333333,\"#9c179e\"],[0.4444444444444444,\"#bd3786\"],[0.5555555555555556,\"#d8576b\"],[0.6666666666666666,\"#ed7953\"],[0.7777777777777778,\"#fb9f3a\"],[0.8888888888888888,\"#fdca26\"],[1.0,\"#f0f921\"]]},\"colorway\":[\"#636efa\",\"#EF553B\",\"#00cc96\",\"#ab63fa\",\"#FFA15A\",\"#19d3f3\",\"#FF6692\",\"#B6E880\",\"#FF97FF\",\"#FECB52\"],\"font\":{\"color\":\"#2a3f5f\"},\"geo\":{\"bgcolor\":\"white\",\"lakecolor\":\"white\",\"landcolor\":\"#E5ECF6\",\"showlakes\":true,\"showland\":true,\"subunitcolor\":\"white\"},\"hoverlabel\":{\"align\":\"left\"},\"hovermode\":\"closest\",\"mapbox\":{\"style\":\"light\"},\"paper_bgcolor\":\"white\",\"plot_bgcolor\":\"#E5ECF6\",\"polar\":{\"angularaxis\":{\"gridcolor\":\"white\",\"linecolor\":\"white\",\"ticks\":\"\"},\"bgcolor\":\"#E5ECF6\",\"radialaxis\":{\"gridcolor\":\"white\",\"linecolor\":\"white\",\"ticks\":\"\"}},\"scene\":{\"xaxis\":{\"backgroundcolor\":\"#E5ECF6\",\"gridcolor\":\"white\",\"gridwidth\":2,\"linecolor\":\"white\",\"showbackground\":true,\"ticks\":\"\",\"zerolinecolor\":\"white\"},\"yaxis\":{\"backgroundcolor\":\"#E5ECF6\",\"gridcolor\":\"white\",\"gridwidth\":2,\"linecolor\":\"white\",\"showbackground\":true,\"ticks\":\"\",\"zerolinecolor\":\"white\"},\"zaxis\":{\"backgroundcolor\":\"#E5ECF6\",\"gridcolor\":\"white\",\"gridwidth\":2,\"linecolor\":\"white\",\"showbackground\":true,\"ticks\":\"\",\"zerolinecolor\":\"white\"}},\"shapedefaults\":{\"line\":{\"color\":\"#2a3f5f\"}},\"ternary\":{\"aaxis\":{\"gridcolor\":\"white\",\"linecolor\":\"white\",\"ticks\":\"\"},\"baxis\":{\"gridcolor\":\"white\",\"linecolor\":\"white\",\"ticks\":\"\"},\"bgcolor\":\"#E5ECF6\",\"caxis\":{\"gridcolor\":\"white\",\"linecolor\":\"white\",\"ticks\":\"\"}},\"title\":{\"x\":0.05},\"xaxis\":{\"automargin\":true,\"gridcolor\":\"white\",\"linecolor\":\"white\",\"ticks\":\"\",\"title\":{\"standoff\":15},\"zerolinecolor\":\"white\",\"zerolinewidth\":2},\"yaxis\":{\"automargin\":true,\"gridcolor\":\"white\",\"linecolor\":\"white\",\"ticks\":\"\",\"title\":{\"standoff\":15},\"zerolinecolor\":\"white\",\"zerolinewidth\":2}}},\"geo\":{\"domain\":{\"x\":[0.0,1.0],\"y\":[0.0,1.0]},\"center\":{}},\"coloraxis\":{\"colorbar\":{\"title\":{\"text\":\"UV radiation\"}},\"colorscale\":[[0.0,\"#0d0887\"],[0.1111111111111111,\"#46039f\"],[0.2222222222222222,\"#7201a8\"],[0.3333333333333333,\"#9c179e\"],[0.4444444444444444,\"#bd3786\"],[0.5555555555555556,\"#d8576b\"],[0.6666666666666666,\"#ed7953\"],[0.7777777777777778,\"#fb9f3a\"],[0.8888888888888888,\"#fdca26\"],[1.0,\"#f0f921\"]]},\"legend\":{\"tracegroupgap\":0},\"margin\":{\"t\":60}},                        {\"responsive\": true}                    ).then(function(){\n",
       "                            \n",
       "var gd = document.getElementById('33804767-cf0c-42c4-8bc1-2f80940d6dd2');\n",
       "var x = new MutationObserver(function (mutations, observer) {{\n",
       "        var display = window.getComputedStyle(gd).display;\n",
       "        if (!display || display === 'none') {{\n",
       "            console.log([gd, 'removed!']);\n",
       "            Plotly.purge(gd);\n",
       "            observer.disconnect();\n",
       "        }}\n",
       "}});\n",
       "\n",
       "// Listen for the removal of the full notebook cells\n",
       "var notebookContainer = gd.closest('#notebook-container');\n",
       "if (notebookContainer) {{\n",
       "    x.observe(notebookContainer, {childList: true});\n",
       "}}\n",
       "\n",
       "// Listen for the clearing of the current output cell\n",
       "var outputEl = gd.closest('.output');\n",
       "if (outputEl) {{\n",
       "    x.observe(outputEl, {childList: true});\n",
       "}}\n",
       "\n",
       "                        })                };                });            </script>        </div>"
      ]
     },
     "metadata": {},
     "output_type": "display_data"
    }
   ],
   "source": [
    "#Set figure equal to choropleth of new_world\n",
    "fig = px.choropleth(new_world, \n",
    "\n",
    "#Set locations equal to iso_alpha for country code to produce map                   \n",
    "locations=\"iso_alpha\",\n",
    "\n",
    "#Instruct designated color on map to represent UV Radiation percentages(PAF)\n",
    "color=\"UV radiation\", \n",
    "\n",
    "#Set the name of each country as the variable that will display when hovering over map\n",
    "hover_name=\"Country\", \n",
    "\n",
    "#Indicate the color scale is Plasma for prefered color\n",
    "color_continuous_scale=px.colors.sequential.Plasma)\n",
    "\n",
    "#Display the figure\n",
    "fig.show()"
   ]
  },
  {
   "cell_type": "markdown",
   "id": "07ca8528",
   "metadata": {},
   "source": [
    "## Part 3A: Load in the data and perform the second Bioinformatics Analyses (P-values)\n",
    "The type of data used for this bioinformatics analyses is also a CSV file, like that used in Geocomputational Analyses. There is also data used in the form of a list.A list is simply multiple items in one variable. \n",
    "\n",
    "In the code below, a csv file is read to produce a dataframe that illustrates the Melanoma rates in men in comparison to levels of UV radiation. Then a list is created for the melanoma rates in men and a list for UV radiation levels. The mean and standard deviation is found for both lists. Then using a ttest with the mean, standard deviation, and sample size found, the p-value is found.\n",
    "\n",
    "The same code method is used to find the p-value that illustrates if there is a correlation between Melanoma rates in women and UV radiation levels. \n",
    "\n",
    "For reference, in a statistical test, the p-value is calculated to measure the probability of an event occuring."
   ]
  },
  {
   "cell_type": "code",
   "execution_count": 60,
   "id": "804c14b2",
   "metadata": {
    "scrolled": true
   },
   "outputs": [
    {
     "data": {
      "text/html": [
       "<div>\n",
       "<style scoped>\n",
       "    .dataframe tbody tr th:only-of-type {\n",
       "        vertical-align: middle;\n",
       "    }\n",
       "\n",
       "    .dataframe tbody tr th {\n",
       "        vertical-align: top;\n",
       "    }\n",
       "\n",
       "    .dataframe thead th {\n",
       "        text-align: right;\n",
       "    }\n",
       "</style>\n",
       "<table border=\"1\" class=\"dataframe\">\n",
       "  <thead>\n",
       "    <tr style=\"text-align: right;\">\n",
       "      <th></th>\n",
       "      <th>Rate of Melanoma in Men</th>\n",
       "      <th>UV radiation</th>\n",
       "    </tr>\n",
       "    <tr>\n",
       "      <th>Country</th>\n",
       "      <th></th>\n",
       "      <th></th>\n",
       "    </tr>\n",
       "  </thead>\n",
       "  <tbody>\n",
       "    <tr>\n",
       "      <th>Australia</th>\n",
       "      <td>40.4</td>\n",
       "      <td>3206</td>\n",
       "    </tr>\n",
       "    <tr>\n",
       "      <th>New Zealand</th>\n",
       "      <td>35.8</td>\n",
       "      <td>2487</td>\n",
       "    </tr>\n",
       "    <tr>\n",
       "      <th>Norway</th>\n",
       "      <td>29.0</td>\n",
       "      <td>1439</td>\n",
       "    </tr>\n",
       "    <tr>\n",
       "      <th>Netherlands</th>\n",
       "      <td>26.4</td>\n",
       "      <td>1662</td>\n",
       "    </tr>\n",
       "    <tr>\n",
       "      <th>Sweden</th>\n",
       "      <td>23.5</td>\n",
       "      <td>1587</td>\n",
       "    </tr>\n",
       "    <tr>\n",
       "      <th>Switzerland</th>\n",
       "      <td>23.4</td>\n",
       "      <td>2158</td>\n",
       "    </tr>\n",
       "    <tr>\n",
       "      <th>Denmark</th>\n",
       "      <td>22.4</td>\n",
       "      <td>1691</td>\n",
       "    </tr>\n",
       "    <tr>\n",
       "      <th>Germany</th>\n",
       "      <td>19.6</td>\n",
       "      <td>1812</td>\n",
       "    </tr>\n",
       "    <tr>\n",
       "      <th>Luxembourg</th>\n",
       "      <td>18.1</td>\n",
       "      <td>1687</td>\n",
       "    </tr>\n",
       "    <tr>\n",
       "      <th>Slovenia</th>\n",
       "      <td>18.0</td>\n",
       "      <td>2256</td>\n",
       "    </tr>\n",
       "    <tr>\n",
       "      <th>Belgium</th>\n",
       "      <td>16.2</td>\n",
       "      <td>1645</td>\n",
       "    </tr>\n",
       "    <tr>\n",
       "      <th>Finland</th>\n",
       "      <td>16.2</td>\n",
       "      <td>1494</td>\n",
       "    </tr>\n",
       "    <tr>\n",
       "      <th>Austria</th>\n",
       "      <td>15.0</td>\n",
       "      <td>1888</td>\n",
       "    </tr>\n",
       "    <tr>\n",
       "      <th>UK</th>\n",
       "      <td>15.0</td>\n",
       "      <td>1576</td>\n",
       "    </tr>\n",
       "    <tr>\n",
       "      <th>US</th>\n",
       "      <td>14.9</td>\n",
       "      <td>2736</td>\n",
       "    </tr>\n",
       "    <tr>\n",
       "      <th>France (metropolitan)</th>\n",
       "      <td>14.4</td>\n",
       "      <td>1907</td>\n",
       "    </tr>\n",
       "    <tr>\n",
       "      <th>Italy</th>\n",
       "      <td>14.0</td>\n",
       "      <td>2444</td>\n",
       "    </tr>\n",
       "    <tr>\n",
       "      <th>Ireland</th>\n",
       "      <td>13.6</td>\n",
       "      <td>1509</td>\n",
       "    </tr>\n",
       "    <tr>\n",
       "      <th>Canada</th>\n",
       "      <td>13.4</td>\n",
       "      <td>1887</td>\n",
       "    </tr>\n",
       "    <tr>\n",
       "      <th>Czech Republic</th>\n",
       "      <td>13.3</td>\n",
       "      <td>1707</td>\n",
       "    </tr>\n",
       "  </tbody>\n",
       "</table>\n",
       "</div>"
      ],
      "text/plain": [
       "                       Rate of Melanoma in Men  UV radiation\n",
       "Country                                                     \n",
       "Australia                                 40.4          3206\n",
       "New Zealand                               35.8          2487\n",
       "Norway                                    29.0          1439\n",
       "Netherlands                               26.4          1662\n",
       "Sweden                                    23.5          1587\n",
       "Switzerland                               23.4          2158\n",
       "Denmark                                   22.4          1691\n",
       "Germany                                   19.6          1812\n",
       "Luxembourg                                18.1          1687\n",
       "Slovenia                                  18.0          2256\n",
       "Belgium                                   16.2          1645\n",
       "Finland                                   16.2          1494\n",
       "Austria                                   15.0          1888\n",
       "UK                                        15.0          1576\n",
       "US                                        14.9          2736\n",
       "France (metropolitan)                     14.4          1907\n",
       "Italy                                     14.0          2444\n",
       "Ireland                                   13.6          1509\n",
       "Canada                                    13.4          1887\n",
       "Czech Republic                            13.3          1707"
      ]
     },
     "execution_count": 60,
     "metadata": {},
     "output_type": "execute_result"
    }
   ],
   "source": [
    "#P-value Men\n",
    "\n",
    "#Read csv file to produce dataframe\n",
    "#Index_col=0 removes the first column of dataframe\n",
    "#Global variable MelanomaMen\n",
    "MelanomaMen = pd.read_csv(\"MelanomaMen.csv\", index_col = 0)\n",
    "\n",
    "#Check to verify dataframe contents\n",
    "MelanomaMen"
   ]
  },
  {
   "cell_type": "code",
   "execution_count": 61,
   "id": "217c4036",
   "metadata": {},
   "outputs": [
    {
     "data": {
      "text/plain": [
       "20.13"
      ]
     },
     "execution_count": 61,
     "metadata": {},
     "output_type": "execute_result"
    }
   ],
   "source": [
    "#Set up a list of all Melanoma percetages in Men\n",
    "#Global variable Melanoma_Men_Data\n",
    "Melanoma_Men_Data = [40.4,35.8,29.0,26.4,23.5,23.4,22.4,19.6,18.1,18.0,16.2,16.2,15.0,15.0,14.9,14.4,14.0,13.6,13.4,13.3]\n",
    "\n",
    "#Find the mean of the rates of Melanoma in Men\n",
    "mean(Melanoma_Men_Data)\n"
   ]
  },
  {
   "cell_type": "code",
   "execution_count": 62,
   "id": "370dd4d3",
   "metadata": {
    "scrolled": true
   },
   "outputs": [
    {
     "data": {
      "text/plain": [
       "7.699699242246584"
      ]
     },
     "execution_count": 62,
     "metadata": {},
     "output_type": "execute_result"
    }
   ],
   "source": [
    "#Find the stdev of the rates of Melanoma in Men\n",
    "stdev(Melanoma_Men_Data)"
   ]
  },
  {
   "cell_type": "code",
   "execution_count": 63,
   "id": "f75f09e0",
   "metadata": {},
   "outputs": [
    {
     "data": {
      "text/plain": [
       "1938.9"
      ]
     },
     "execution_count": 63,
     "metadata": {},
     "output_type": "execute_result"
    }
   ],
   "source": [
    "#Set up a list of the UV Radiation levels\n",
    "#Global variable UVRadiation_Data\n",
    "UVRadiation_Data = [3206, 2487, 1439, 1662, 1587, 2158, 1691, 1812, 1687, 2256, 1645, 1494, 1888, 1576, 2736, 1907, 2444, 1509, 1887, 1707\n",
    "]\n",
    "\n",
    "#Find the mean of UV Radiation percentages\n",
    "mean(UVRadiation_Data)"
   ]
  },
  {
   "cell_type": "code",
   "execution_count": 64,
   "id": "7e22952d",
   "metadata": {},
   "outputs": [
    {
     "data": {
      "text/plain": [
       "470.01286656520597"
      ]
     },
     "execution_count": 64,
     "metadata": {},
     "output_type": "execute_result"
    }
   ],
   "source": [
    "#Find the stdev of UV Radiation percentages\n",
    "stdev(UVRadiation_Data)"
   ]
  },
  {
   "cell_type": "code",
   "execution_count": 65,
   "id": "32474089",
   "metadata": {},
   "outputs": [
    {
     "name": "stdout",
     "output_type": "stream",
     "text": [
      "Ttest_indResult(statistic=-18.894932234361224, pvalue=6.458982376466397e-21)\n"
     ]
    }
   ],
   "source": [
    "#Run ttest\n",
    "\n",
    "#Loc represents the mean, scale is the stdev, and size is the size of the sample\n",
    "#Enter the mean, stdev, and size of the sample for the Melanoma rates in men data\n",
    "#Global variable Melanoma_Men\n",
    "Melanoma_Men = stats.norm.rvs(loc = 20.13,scale = 7.699699242246584,size = 20)\n",
    "\n",
    "#Enter the mean, stdev, and size of the sample for the UV Radiation Data\n",
    "#Global variable UVRadiation\n",
    "UVRadiationData =stats.norm.rvs(loc = 1938.9, scale = 470.01286656520597,size =20)\n",
    "\n",
    "#Print to run ttest\n",
    "print(stats.ttest_ind(Melanoma_Men,UVRadiationData))"
   ]
  },
  {
   "cell_type": "markdown",
   "id": "9001c26e",
   "metadata": {},
   "source": [
    "The p-value 5.829 is >0.05 which means it is not statistically significant"
   ]
  },
  {
   "cell_type": "code",
   "execution_count": 66,
   "id": "508a376b",
   "metadata": {
    "scrolled": true
   },
   "outputs": [
    {
     "data": {
      "text/html": [
       "<div>\n",
       "<style scoped>\n",
       "    .dataframe tbody tr th:only-of-type {\n",
       "        vertical-align: middle;\n",
       "    }\n",
       "\n",
       "    .dataframe tbody tr th {\n",
       "        vertical-align: top;\n",
       "    }\n",
       "\n",
       "    .dataframe thead th {\n",
       "        text-align: right;\n",
       "    }\n",
       "</style>\n",
       "<table border=\"1\" class=\"dataframe\">\n",
       "  <thead>\n",
       "    <tr style=\"text-align: right;\">\n",
       "      <th></th>\n",
       "      <th>Rate of Melanoma in Women</th>\n",
       "      <th>UV radiation</th>\n",
       "    </tr>\n",
       "    <tr>\n",
       "      <th>Country</th>\n",
       "      <th></th>\n",
       "      <th></th>\n",
       "    </tr>\n",
       "  </thead>\n",
       "  <tbody>\n",
       "    <tr>\n",
       "      <th>Australia</th>\n",
       "      <td>12.6</td>\n",
       "      <td>3206</td>\n",
       "    </tr>\n",
       "    <tr>\n",
       "      <th>New Zealand</th>\n",
       "      <td>31.1</td>\n",
       "      <td>2487</td>\n",
       "    </tr>\n",
       "    <tr>\n",
       "      <th>Norway</th>\n",
       "      <td>30.7</td>\n",
       "      <td>1439</td>\n",
       "    </tr>\n",
       "    <tr>\n",
       "      <th>Netherlands</th>\n",
       "      <td>25.4</td>\n",
       "      <td>1662</td>\n",
       "    </tr>\n",
       "    <tr>\n",
       "      <th>Sweden</th>\n",
       "      <td>26.2</td>\n",
       "      <td>1587</td>\n",
       "    </tr>\n",
       "    <tr>\n",
       "      <th>Switzerland</th>\n",
       "      <td>19.5</td>\n",
       "      <td>2158</td>\n",
       "    </tr>\n",
       "    <tr>\n",
       "      <th>Denmark</th>\n",
       "      <td>33.1</td>\n",
       "      <td>1691</td>\n",
       "    </tr>\n",
       "    <tr>\n",
       "      <th>Germany</th>\n",
       "      <td>24.0</td>\n",
       "      <td>1812</td>\n",
       "    </tr>\n",
       "    <tr>\n",
       "      <th>Luxembourg</th>\n",
       "      <td>15.4</td>\n",
       "      <td>1687</td>\n",
       "    </tr>\n",
       "    <tr>\n",
       "      <th>Slovenia</th>\n",
       "      <td>19.7</td>\n",
       "      <td>2256</td>\n",
       "    </tr>\n",
       "    <tr>\n",
       "      <th>Belgium</th>\n",
       "      <td>23.9</td>\n",
       "      <td>1645</td>\n",
       "    </tr>\n",
       "    <tr>\n",
       "      <th>Finland</th>\n",
       "      <td>15.9</td>\n",
       "      <td>1494</td>\n",
       "    </tr>\n",
       "    <tr>\n",
       "      <th>Austria</th>\n",
       "      <td>12.6</td>\n",
       "      <td>1888</td>\n",
       "    </tr>\n",
       "    <tr>\n",
       "      <th>UK</th>\n",
       "      <td>15.3</td>\n",
       "      <td>1576</td>\n",
       "    </tr>\n",
       "    <tr>\n",
       "      <th>US</th>\n",
       "      <td>11.0</td>\n",
       "      <td>2736</td>\n",
       "    </tr>\n",
       "    <tr>\n",
       "      <th>France (metropolitan)</th>\n",
       "      <td>12.9</td>\n",
       "      <td>1907</td>\n",
       "    </tr>\n",
       "    <tr>\n",
       "      <th>Italy</th>\n",
       "      <td>11.0</td>\n",
       "      <td>2444</td>\n",
       "    </tr>\n",
       "    <tr>\n",
       "      <th>Ireland</th>\n",
       "      <td>19.0</td>\n",
       "      <td>1509</td>\n",
       "    </tr>\n",
       "    <tr>\n",
       "      <th>Canada</th>\n",
       "      <td>11.7</td>\n",
       "      <td>1887</td>\n",
       "    </tr>\n",
       "    <tr>\n",
       "      <th>Czech Republic</th>\n",
       "      <td>12.4</td>\n",
       "      <td>1707</td>\n",
       "    </tr>\n",
       "  </tbody>\n",
       "</table>\n",
       "</div>"
      ],
      "text/plain": [
       "                       Rate of Melanoma in Women  UV radiation\n",
       "Country                                                       \n",
       "Australia                                   12.6          3206\n",
       "New Zealand                                 31.1          2487\n",
       "Norway                                      30.7          1439\n",
       "Netherlands                                 25.4          1662\n",
       "Sweden                                      26.2          1587\n",
       "Switzerland                                 19.5          2158\n",
       "Denmark                                     33.1          1691\n",
       "Germany                                     24.0          1812\n",
       "Luxembourg                                  15.4          1687\n",
       "Slovenia                                    19.7          2256\n",
       "Belgium                                     23.9          1645\n",
       "Finland                                     15.9          1494\n",
       "Austria                                     12.6          1888\n",
       "UK                                          15.3          1576\n",
       "US                                          11.0          2736\n",
       "France (metropolitan)                       12.9          1907\n",
       "Italy                                       11.0          2444\n",
       "Ireland                                     19.0          1509\n",
       "Canada                                      11.7          1887\n",
       "Czech Republic                              12.4          1707"
      ]
     },
     "execution_count": 66,
     "metadata": {},
     "output_type": "execute_result"
    }
   ],
   "source": [
    "#P-value Women\n",
    "\n",
    "#Read csv file to produce dataframe\n",
    "#Index_col=0 removes the first column of dataframe\n",
    "#Global variable MelanomaWomen\n",
    "MelanomaWomen = pd.read_csv(\"MelanomaWomen.csv\", index_col = 0)\n",
    "\n",
    "#Check to verify dataframe contents\n",
    "MelanomaWomen"
   ]
  },
  {
   "cell_type": "code",
   "execution_count": 67,
   "id": "08200206",
   "metadata": {},
   "outputs": [
    {
     "data": {
      "text/plain": [
       "19.17"
      ]
     },
     "execution_count": 67,
     "metadata": {},
     "output_type": "execute_result"
    }
   ],
   "source": [
    "#Set up a list for all Melanoma percentages in Women\n",
    "#Global variable Melanoma_Women_Data\n",
    "Melanoma_Women_Data = [12.6,31.1,30.7,25.4,26.2,19.5,33.1,24,15.4,19.7,23.9,15.9,12.6,15.3,11,12.9,11,19,11.7,12.4]\n",
    "\n",
    "#Find the mean of rates of Melanoma in Women\n",
    "mean(Melanoma_Women_Data)"
   ]
  },
  {
   "cell_type": "code",
   "execution_count": 68,
   "id": "9595cc71",
   "metadata": {},
   "outputs": [
    {
     "data": {
      "text/plain": [
       "7.270423139788973"
      ]
     },
     "execution_count": 68,
     "metadata": {},
     "output_type": "execute_result"
    }
   ],
   "source": [
    "#Find the stdev of rates of Melanoma in Women\n",
    "stdev(Melanoma_Women_Data)"
   ]
  },
  {
   "cell_type": "code",
   "execution_count": 69,
   "id": "13e701fd",
   "metadata": {},
   "outputs": [
    {
     "name": "stdout",
     "output_type": "stream",
     "text": [
      "Ttest_indResult(statistic=-17.751310835162553, pvalue=5.473130097468243e-20)\n"
     ]
    }
   ],
   "source": [
    "#Run ttest\n",
    "\n",
    "#Enter the mean, stdev, and size of the sample for the Melanoma rates in Women data\n",
    "#Global variable Melanoma_Women\n",
    "Melanoma_Women = stats.norm.rvs(loc = 19.17,scale = 7.270423139788973,size = 20)\n",
    "\n",
    "#Enter the mean, stdev, and size of the sample for the UV Radiation data\n",
    "#Global variable UVRadiationData\n",
    "UVRadiationData =stats.norm.rvs(loc = 1938.9, scale = 470.01286656520597,size =20)\n",
    "\n",
    "#Print to run ttest\n",
    "print(stats.ttest_ind(Melanoma_Women,UVRadiationData))"
   ]
  },
  {
   "cell_type": "markdown",
   "id": "05a24797",
   "metadata": {},
   "source": [
    "The p-value 2.869 is >0.05 which means it is not statistically significant"
   ]
  },
  {
   "cell_type": "markdown",
   "id": "023ac8fe",
   "metadata": {},
   "source": [
    "## Part 3B: Create a Scatterplot (plotting method) to show Rates of Melanoma in both men and women, in respect to UV Radiation\n",
    "Below we are using a scatterplot which are used to illustrate the relationship between two varaibles. In the scatterplot below, we are using it to better visualize the meaning behind the p-values found above. These scatterplots represent the rates of Melanoma in men and women with respect to UV radiation. "
   ]
  },
  {
   "cell_type": "code",
   "execution_count": 70,
   "id": "48e27bc7",
   "metadata": {
    "scrolled": true
   },
   "outputs": [
    {
     "data": {
      "image/png": "[encoded data removed]",
      "text/plain": [
       "<Figure size 576x396 with 1 Axes>"
      ]
     },
     "metadata": {},
     "output_type": "display_data"
    }
   ],
   "source": [
    "#Plot scatterplot to represent the Rates of Melanoma in Men in comparison to UV radiation\n",
    "\n",
    "#Set plot stye to use a seaborn scatter plot \n",
    "plt.style.use('seaborn')  \n",
    "\n",
    "\n",
    "#Read csv file to use data\n",
    "data = pd.read_csv('MelanomaMen.csv')\n",
    "\n",
    "#Instruct plot what data that will be used for X-axis and y-axis \n",
    "x = Melanoma_Men_Data\n",
    "y = UVRadiation_Data\n",
    "\n",
    "#Instruct plot of markersize, blending value, marker edgecolor, linewidth\n",
    "#s is marker size and alpha is blending value\n",
    "plt.scatter(x,y, s=100, alpha=0.6, edgecolor='black', linewidth=1)\n",
    "\n",
    "#Set the plot title\n",
    "plt.title('Correlation between UV Radiation Levels and Melanoma Rates in Men')\n",
    "\n",
    "#Set the X-axis and y-axis labels\n",
    "plt.xlabel('Percentage of Men (30+ yrs) Diagnosed with Melanoma')\n",
    "plt.ylabel('UV radiation')\n",
    "\n",
    "#Set plot to have tight layout\n",
    "plt.tight_layout()\n",
    "\n",
    "#Display plot\n",
    "plt.show()"
   ]
  },
  {
   "cell_type": "markdown",
   "id": "ebd90bcf",
   "metadata": {},
   "source": [
    "Here we are using matplotlib.pyplot to create a scatterplot. The x-value represents the percentage of men (30+yrs) that have been diagnosed with melanoma. The y-axis represents UV radiation levels. This plot can be compared with the p-value found earlier (5.829). "
   ]
  },
  {
   "cell_type": "code",
   "execution_count": 71,
   "id": "4ac9b305",
   "metadata": {},
   "outputs": [
    {
     "data": {
      "image/png": "[encoded data removed]",
      "text/plain": [
       "<Figure size 576x396 with 1 Axes>"
      ]
     },
     "metadata": {},
     "output_type": "display_data"
    }
   ],
   "source": [
    "#Plot scatterplot to represent the Rates of Melanoma in Men in comparison to UV radiation\n",
    "\n",
    "#Set plot stye to use a seaborn scatter plot \n",
    "plt.style.use('seaborn')  \n",
    "\n",
    "#Read csv file to use data\n",
    "data = pd.read_csv('MelanomaWomen.csv')\n",
    "\n",
    "#Inform scatter plot what data that will be used for X-axis and y-axis \n",
    "x = Melanoma_Women_Data\n",
    "y = UVRadiation_Data\n",
    "\n",
    "#Instruct plot of markersize, blending value, marker edgecolor, linewidth\n",
    "plt.scatter(x,y, s=100, alpha=0.6, edgecolor='black', linewidth=1)\n",
    "\n",
    "#Set the plot title\n",
    "plt.title('Correlation between UV Radiation Levels and Melanoma Rates in Women')\n",
    "\n",
    "#Set the x-axis and y-axis labels\n",
    "plt.xlabel('Percentage of Women Diagnosed with Melanoma')\n",
    "plt.ylabel('UV radiation')\n",
    "\n",
    "#Set plot to have tight layout\n",
    "plt.tight_layout()\n",
    "\n",
    "#Display plot\n",
    "plt.show()\n"
   ]
  },
  {
   "cell_type": "markdown",
   "id": "f2571a6f",
   "metadata": {},
   "source": [
    "Here we are using matplotlib.pyplot to create a scatterplot. The x-value represents the percentage of women (30+yrs) that have been diagnosed with melanoma. The y-axis represents UV radiation levels. This plot can be compared with the p-value found earlier (2.869). "
   ]
  },
  {
   "cell_type": "markdown",
   "id": "33a29707",
   "metadata": {},
   "source": [
    "## Part4: Analysis of the results\n",
    "The first scatterplot illustrates that as the rate of melanoma increased among men, it did not necessarily mean there was high UV radiation in that location. For instance, at around 15% rate for melanoma, we see a UV radiation of about 1800. Later we see a 29% rate for melanoma, but a UV radiation level of around 1300. There is no correlation between the two variables which can be further supported by the p-value of 5.829 which is greater than the standard 0.05, which is not statistically significant.\n",
    "\n",
    "For The second scatterplot had the same results where as the rate of melanoma increased, there was no real increase in UV radiation. This is further supported by the large p-value of 2.869 which is greater than the standard 0.05, which is not statistically significant. \n",
    "\n",
    "My hypothesis was not correct; there seems to be no significant correlation between high UV radiation levels and high melanoma rates in men and women."
   ]
  },
  {
   "cell_type": "markdown",
   "id": "cae082a2",
   "metadata": {},
   "source": [
    "### References\n",
    "- Craig, Sarah et al. \"Ultraviolet light and melanoma.\" The Journal of Pathology, vol. 244. 30 Jun. 2018. \n",
    "- D'Orazio, John et al. “UV radiation and the skin.” International journal of molecular sciences vol. 14,6 12222-48. 7 Jun. 2013, doi:10.3390/ijms140612222\n",
    "- Heistein,Jonathan B. and Acharya, Utkarsh. \"Malignant Melanoma\". In: StatPearls [Internet]. Treasure Island (FL): StatPearls Publishing; 2021 Jan\n",
    "- Liley, Ben J. and Mckenzie, Richard L. \"Where on Earth has the highest UV?\" National Institute of Water and Atmospheric Research. 2006.\n",
    "- https://developers.google.com/public-data/docs/canonical/countries_csv\n",
    "- https://gco.iarc.fr/causes/uv/tools-map?mode=1&sex=0&population=1&continent=0&cancer=0&key=paf&age_group=3\n",
    "- https://jakevdp.github.io/PythonDataScienceHandbook/03.07-merge-and-join.html\n",
    "- https://www.wcrf.org/dietandcancer/skin-cancer-statistics/\n",
    "- https://pythonforundergradengineers.com/statistics-in-python-using-the-statistics-module.html\n",
    "- https://stackoverflow.com/questions/32085531/importing-a-csv-file-into-python-to-make-scatterplots-and-histograms\n",
    "- https://www.tutorialspoint.com/python_data_science/python_p_value.htm\n",
    "- https://plotly.com/python/choropleth-maps/\n",
    "- https://apps.who.int/gho/data/view.main.35300\n"
   ]
  },
  {
   "cell_type": "code",
   "execution_count": null,
   "id": "934aa94f",
   "metadata": {},
   "outputs": [],
   "source": []
  }
 ],
 "metadata": {
  "kernelspec": {
   "display_name": "Python 3 (ipykernel)",
   "language": "python",
   "name": "python3"
  },
  "language_info": {
   "codemirror_mode": {
    "name": "ipython",
    "version": 3
   },
   "file_extension": ".py",
   "mimetype": "text/x-python",
   "name": "python",
   "nbconvert_exporter": "python",
   "pygments_lexer": "ipython3",
   "version": "3.8.11"
  }
 },
 "nbformat": 4,
 "nbformat_minor": 5
}
